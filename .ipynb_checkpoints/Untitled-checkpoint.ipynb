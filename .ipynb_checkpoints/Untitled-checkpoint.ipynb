{
 "cells": [
  {
   "cell_type": "code",
   "execution_count": 7,
   "id": "ed01e5d3",
   "metadata": {},
   "outputs": [],
   "source": [
    "import numpy as np\n",
    "import pandas as pd\n",
    "from sklearn.metrics.pairwise import cosine_similarity\n",
    "from sklearn.metrics import mean_squared_error"
   ]
  },
  {
   "cell_type": "code",
   "execution_count": 1,
   "id": "73896913",
   "metadata": {},
   "outputs": [],
   "source": [
    "# 추천 행렬 함수\n",
    "def predict_rating(rating, item_sim):\n",
    "    rating_pred = rating.dot(item_sim) / np.array([np.abs(item_sim).sum(axis=1)])\n",
    "    rating_pred[np.isnan(rating_pred)] = 0  # 0으로 나누는 경우에 대한 예외 처리\n",
    "    return rating_pred"
   ]
  },
  {
   "cell_type": "code",
   "execution_count": 8,
   "id": "929d31ae",
   "metadata": {},
   "outputs": [],
   "source": [
    "# MSE 함수\n",
    "def mse(pred, actual):\n",
    "    pred = pred[actual.nonzero()].flatten()\n",
    "    actual = actual[actual.nonzero()].flatten()\n",
    "    return mean_squared_error(pred, actual)"
   ]
  },
  {
   "cell_type": "code",
   "execution_count": 9,
   "id": "99b7c829",
   "metadata": {},
   "outputs": [],
   "source": [
    "# MSE 개선 함수\n",
    "def predict_rating_top_n(rating, item_sim, n=20):\n",
    "    pred = np.zeros(rating.shape)\n",
    "\n",
    "    for col in range(rating.shape[1]):\n",
    "        top_n_item = np.argsort(item_sim[:, col])[:-n - 1:-1]  # 스칼라로 변환\n",
    "        for row in range(rating.shape[0]):\n",
    "            pred[row, col] = item_sim[col, top_n_item].dot(rating[row, top_n_item].T)\n",
    "            pred[row, col] /= np.sum(np.abs(item_sim[col, top_n_item]))\n",
    "\n",
    "    return pred"
   ]
  },
  {
   "cell_type": "code",
   "execution_count": 10,
   "id": "2fcabe01",
   "metadata": {},
   "outputs": [],
   "source": [
    "# 읽은 책, 안 읽은 책 구분\n",
    "def get_user_unread(rating, use_id):\n",
    "    user_rating = rating.loc[use_id, :]\n",
    "    already_read = user_rating[user_rating > 0].index.tolist()\n",
    "    book_list = rating.columns.tolist()\n",
    "    unread_list = [book for book in book_list if book not in already_read]\n",
    "    return unread_list"
   ]
  },
  {
   "cell_type": "code",
   "execution_count": 11,
   "id": "1dbba9f0",
   "metadata": {},
   "outputs": [],
   "source": [
    "# 책 추천\n",
    "def recommendation(pred_df, use_id, unread_list, top_n=10):\n",
    "    re_book = pred_df.loc[use_id, unread_list].sort_values(ascending=False)[:top_n]\n",
    "    return re_book"
   ]
  },
  {
   "cell_type": "code",
   "execution_count": 13,
   "id": "3893e6cc",
   "metadata": {},
   "outputs": [],
   "source": [
    "# user_norm : ID/Name/Rating\n",
    "df = pd.read_csv('user_norm.csv')"
   ]
  },
  {
   "cell_type": "code",
   "execution_count": 14,
   "id": "fdb98265",
   "metadata": {},
   "outputs": [],
   "source": [
    "pivot_table = pd.pivot_table(df, values='Rating', index='ID', columns='Name', fill_value=0)\n",
    "pivot_table_tr = pivot_table.transpose()"
   ]
  },
  {
   "cell_type": "code",
   "execution_count": 15,
   "id": "2a5b07e1",
   "metadata": {},
   "outputs": [],
   "source": [
    "# 코사인 유사도 행렬 생성\n",
    "sim = cosine_similarity(pivot_table_tr, pivot_table_tr)\n",
    "df_sim = pd.DataFrame(data=sim, index=pivot_table_tr.index, columns=pivot_table_tr.index)"
   ]
  },
  {
   "cell_type": "code",
   "execution_count": 16,
   "id": "195c32f4",
   "metadata": {},
   "outputs": [
    {
     "name": "stderr",
     "output_type": "stream",
     "text": [
      "C:\\Users\\wjsdl\\AppData\\Local\\Temp\\ipykernel_1476\\847404322.py:3: RuntimeWarning: invalid value encountered in divide\n",
      "  rating_pred = rating.dot(item_sim) / np.array([np.abs(item_sim).sum(axis=1)])\n"
     ]
    }
   ],
   "source": [
    "rating_pred = predict_rating(pivot_table.values, df_sim.values)\n",
    "rating_pred_matrix = pd.DataFrame(data=rating_pred, index=pivot_table.index, columns=pivot_table.columns)"
   ]
  },
  {
   "cell_type": "code",
   "execution_count": 17,
   "id": "b500944b",
   "metadata": {},
   "outputs": [
    {
     "name": "stderr",
     "output_type": "stream",
     "text": [
      "C:\\Users\\wjsdl\\AppData\\Local\\Temp\\ipykernel_1476\\745410320.py:9: RuntimeWarning: invalid value encountered in scalar divide\n",
      "  pred[row, col] /= np.sum(np.abs(item_sim[col, top_n_item]))\n"
     ]
    },
    {
     "name": "stdout",
     "output_type": "stream",
     "text": [
      "                               pred_score\n",
      "Name                                     \n",
      "Fahrenheit 451                   1.490224\n",
      "Slaughterhouse-Five              1.352890\n",
      "Of Mice and Men                  1.342208\n",
      "The Great Gatsby                 1.304190\n",
      "Catch-22                         1.263471\n",
      "Lord of the Flies                1.206610\n",
      "Selling the Dream                1.129222\n",
      "The Grapes of Wrath              1.105307\n",
      "The Old Man and the Sea          1.096865\n",
      "One Hundred Years of Solitude    1.020110\n"
     ]
    }
   ],
   "source": [
    "try:\n",
    "    rating_pred_2 = predict_rating_top_n(pivot_table.values, df_sim.values, n=20)\n",
    "    rating_pred_matrix = pd.DataFrame(data=rating_pred_2, index=pivot_table.index, columns=pivot_table.columns)\n",
    "    # user_rating_id = pivot_table.loc[1, :]\n",
    "    # print(user_rating_id[user_rating_id > 0].sort_values(ascending=False)[:20])\n",
    "    unread_list = get_user_unread(pivot_table, 9)\n",
    "    re_book = recommendation(rating_pred_matrix, 9, unread_list, top_n=10)\n",
    "    df_re_book = pd.DataFrame(data=re_book.values, index=re_book.index, columns=[\"pred_score\"])\n",
    "    print(df_re_book)\n",
    "except KeyboardInterrupt:\n",
    "    print(\"오류 발생\")"
   ]
  },
  {
   "cell_type": "code",
   "execution_count": null,
   "id": "55a904de",
   "metadata": {},
   "outputs": [],
   "source": []
  }
 ],
 "metadata": {
  "kernelspec": {
   "display_name": "Python 3 (ipykernel)",
   "language": "python",
   "name": "python3"
  },
  "language_info": {
   "codemirror_mode": {
    "name": "ipython",
    "version": 3
   },
   "file_extension": ".py",
   "mimetype": "text/x-python",
   "name": "python",
   "nbconvert_exporter": "python",
   "pygments_lexer": "ipython3",
   "version": "3.11.3"
  }
 },
 "nbformat": 4,
 "nbformat_minor": 5
}
